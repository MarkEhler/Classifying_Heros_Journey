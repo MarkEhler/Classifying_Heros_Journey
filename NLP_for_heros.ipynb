{
 "cells": [
  {
   "cell_type": "markdown",
   "metadata": {},
   "source": [
    "# NLP For Heros\n",
    "Jophseph Campbell,  Professor of Literature at Sarah Lawrence and author for The Hero With One Thousand Faces (THWOTF), is widely regarded as the theoretical word on fiction writing.  In writing THWOTF he lays out an architypal story arc that certain hero's journey stories follow.  The idea of simplifying a story down to basic components is nothing new, but the hero's journey in particular seems to follow his outline very, very closely.\n",
    "\n",
    "This classification has inspired me to try and model this storyline using the Classic J.K. Rowling's Harry Potter and the Soccerer's Stone.  IN J.K.'s work, she very closely follows the archetype.  Often breaking each step down by chapter.  This, and it's simple language, as it is meant as a children's book after all, should make it a clear and natural choice as the labeled data for this experiment."
   ]
  },
  {
   "cell_type": "code",
   "execution_count": 47,
   "metadata": {},
   "outputs": [
    {
     "name": "stdout",
     "output_type": "stream",
     "text": [
      "Collecting fuzzywuzzy\n",
      "  Downloading https://files.pythonhosted.org/packages/d8/f1/5a267addb30ab7eaa1beab2b9323073815da4551076554ecc890a3595ec9/fuzzywuzzy-0.17.0-py2.py3-none-any.whl\n",
      "Installing collected packages: fuzzywuzzy\n",
      "Successfully installed fuzzywuzzy-0.17.0\n"
     ]
    }
   ],
   "source": [
    "!pip install fuzzywuzzy"
   ]
  },
  {
   "cell_type": "code",
   "execution_count": 58,
   "metadata": {},
   "outputs": [],
   "source": [
    "import pandas as pd\n",
    "import os\n",
    "from fuzzywuzzy import process\n",
    "import numpy as np"
   ]
  },
  {
   "cell_type": "code",
   "execution_count": 13,
   "metadata": {},
   "outputs": [
    {
     "data": {
      "text/plain": [
       "'C:\\\\Users\\\\Mark\\\\Documents\\\\DataSci\\\\Module 5\\\\Heros_Journey'"
      ]
     },
     "execution_count": 13,
     "metadata": {},
     "output_type": "execute_result"
    }
   ],
   "source": [
    "path = os.getcwd()\n",
    "path"
   ]
  },
  {
   "cell_type": "code",
   "execution_count": 16,
   "metadata": {},
   "outputs": [
    {
     "name": "stdout",
     "output_type": "stream",
     "text": [
      " Volume in drive C is Windows-SSD\n",
      " Volume Serial Number is 42C8-223B\n",
      "\n",
      " Directory of C:\\Users\\Mark\\Documents\\DataSci\\Module 5\\Heros_Journey\n",
      "\n",
      "11/12/2019  01:26 PM    <DIR>          .\n",
      "11/12/2019  01:26 PM    <DIR>          ..\n",
      "11/12/2019  01:00 PM    <DIR>          .ipynb_checkpoints\n",
      "10/30/2019  04:23 PM           465,924 Harry_Potter-J.K.Rowling.txt\n",
      "11/12/2019  12:57 PM    <DIR>          Input\n",
      "11/12/2019  01:26 PM             3,474 NLP_for_heros.ipynb\n",
      "               2 File(s)        469,398 bytes\n",
      "               4 Dir(s)  33,689,976,832 bytes free\n"
     ]
    }
   ],
   "source": [
    "!dir"
   ]
  },
  {
   "cell_type": "code",
   "execution_count": 34,
   "metadata": {},
   "outputs": [],
   "source": [
    "file = open('Harry_Potter-J.K.Rowling.txt', 'r', encoding='utf8')\n",
    "text = file.read()\n",
    "file.close()"
   ]
  },
  {
   "cell_type": "code",
   "execution_count": 35,
   "metadata": {},
   "outputs": [
    {
     "data": {
      "text/plain": [
       "str"
      ]
     },
     "execution_count": 35,
     "metadata": {},
     "output_type": "execute_result"
    }
   ],
   "source": [
    "type(text)"
   ]
  },
  {
   "cell_type": "code",
   "execution_count": 36,
   "metadata": {},
   "outputs": [
    {
     "data": {
      "text/plain": [
       "440862"
      ]
     },
     "execution_count": 36,
     "metadata": {},
     "output_type": "execute_result"
    }
   ],
   "source": [
    "len(text)"
   ]
  },
  {
   "cell_type": "code",
   "execution_count": 39,
   "metadata": {},
   "outputs": [
    {
     "data": {
      "text/plain": [
       "\"Harry Potter\\n\\nand the Sorcerer’s Stone\\n\\n\\n\\n\\n\\nby\\n\\nJ. K. Rowling\\n\\nIllustrations by Mary Grandpré\\n\\n\\n\\nArthur A. Levine Books\\n\\nAn Imprint of Scholastic Press.\\n\\n\\n\\n\\n\\nFor Jessica, who loves stories\\n\\nfor Anne, who loved them too;\\n\\nand for Di, who heard this one first.\\n\\n\\n\\n\\n\\nText copyright © 1997 by J.K. Rowling\\n\\nIllustrations by Mary GrandPré copyright © 1998 Warner Bros.\\n\\nAll rights reserved. Published by Scholastic Press, a division of Scholastic Inc.,\\n\\nPublishers since 1920\\n\\nSCHOLASTIC, SCHOLASTIC PRESS, and the LANTERN LOGO\\n\\nare trademarks and/or registered trademarks of Scholastic Inc.\\n\\n\\n\\nHARRY POTTER and all related characters and elements are trademarks of Warner Bros.\\n\\n\\n\\nNo part of this publication may be reproduced, or stored in a retrieval system, or transmitted in any form or by any means, electronic, mechanical, photocopying, recording, or otherwise, without written permission of the publisher. For information regarding permissions, write to Scholastic Inc., Attention: Permissions Department, 555 Broadway, New York, NY 10012.\\n\\n\\n\\nLibrary of Congress Cataloging-in-Publication Data\\n\\n\\n\\nRowling, J.K.\\n\\nHarry Potter and the Sorcerer's Stone / by J.K. Rowling\\n\\np. cm.\\n\\nSummary: Rescued from the outrageous neglect of his aunt and uncle, a young boy with a great destiny proves his worth while attending Hogwarts School of Witchcraft and Wizardry.\\n\\nISBN 0-590-35340-3\\n\\n[1. Fantasy — Fiction. 2. Witches — Fiction. 3. Wizards — Fiction.\\n\\n4. Schools — Fiction. 5. England — Fiction.] I. Title.\\n\\nPZ7.R79835Har 1998\\n\\n[Fic] — dc21 97-39059\\n\\n\\n\\n64 65 66 67 68 69 70 71 72 05\\n\\nPrinted in U.S.A. 10\\n\\nFirst American edition, October 1998\\n\\n\\n\\n\\n\\nChapter 1\\n\\n\\n\\n\\n\\nThe Boy Who Lived\\n\\n\\n\\n\\nMr. and Mrs. Dursley, of number four, Privet Drive, were proud to say that they were perfectly normal, thank you very much. They were the last people you’d expect to be involved in anything strange or mysterious, because they just didn’t hold with such nonsense.\\n\\nMr. Dursley was the director of a firm called Grunnings,\""
      ]
     },
     "execution_count": 39,
     "metadata": {},
     "output_type": "execute_result"
    }
   ],
   "source": [
    "text[:2000]"
   ]
  },
  {
   "cell_type": "markdown",
   "metadata": {},
   "source": [
    "# Cleaning Data\n",
    "The final data should be broken into samples that make sense for a model to read.  Sentances are a good choice but sentances also end with `!` or `?` likewise, just because there is a `.` doesn't mean that the sentance has ended.  For now, line breaks might seem a little less granular but there is no chance that spliting the data on the line with break things apart too much.\n",
    "\n",
    "Later on, we will be labeling this particular corpus by chapter and by key words within certain chapters to label the phases of the hero's journey laided out by Campbell."
   ]
  },
  {
   "cell_type": "code",
   "execution_count": 40,
   "metadata": {},
   "outputs": [
    {
     "data": {
      "text/plain": [
       "['Harry Potter', '', 'and the Sorcerer’s Stone', '', '']"
      ]
     },
     "execution_count": 40,
     "metadata": {},
     "output_type": "execute_result"
    }
   ],
   "source": [
    "manuscript = text.split('\\n')\n",
    "type(manuscript)\n",
    "manuscript[:5]"
   ]
  },
  {
   "cell_type": "code",
   "execution_count": 62,
   "metadata": {},
   "outputs": [
    {
     "data": {
      "text/plain": [
       "array([0., 0., 0., 0., 0.])"
      ]
     },
     "execution_count": 62,
     "metadata": {},
     "output_type": "execute_result"
    }
   ],
   "source": [
    "np.zeros(len(manuscript[:5]))"
   ]
  },
  {
   "cell_type": "code",
   "execution_count": 66,
   "metadata": {},
   "outputs": [],
   "source": [
    "labeled_data = pd.DataFrame({'text': manuscript , 'label' : np.zeros(len(manuscript), dtype=int)})"
   ]
  },
  {
   "cell_type": "code",
   "execution_count": 67,
   "metadata": {},
   "outputs": [
    {
     "data": {
      "text/html": [
       "<div>\n",
       "<style scoped>\n",
       "    .dataframe tbody tr th:only-of-type {\n",
       "        vertical-align: middle;\n",
       "    }\n",
       "\n",
       "    .dataframe tbody tr th {\n",
       "        vertical-align: top;\n",
       "    }\n",
       "\n",
       "    .dataframe thead th {\n",
       "        text-align: right;\n",
       "    }\n",
       "</style>\n",
       "<table border=\"1\" class=\"dataframe\">\n",
       "  <thead>\n",
       "    <tr style=\"text-align: right;\">\n",
       "      <th></th>\n",
       "      <th>text</th>\n",
       "      <th>label</th>\n",
       "    </tr>\n",
       "  </thead>\n",
       "  <tbody>\n",
       "    <tr>\n",
       "      <th>6677</th>\n",
       "      <td></td>\n",
       "      <td>0</td>\n",
       "    </tr>\n",
       "    <tr>\n",
       "      <th>6678</th>\n",
       "      <td></td>\n",
       "      <td>0</td>\n",
       "    </tr>\n",
       "    <tr>\n",
       "      <th>6679</th>\n",
       "      <td></td>\n",
       "      <td>0</td>\n",
       "    </tr>\n",
       "    <tr>\n",
       "      <th>6680</th>\n",
       "      <td></td>\n",
       "      <td>0</td>\n",
       "    </tr>\n",
       "    <tr>\n",
       "      <th>6681</th>\n",
       "      <td></td>\n",
       "      <td>0</td>\n",
       "    </tr>\n",
       "  </tbody>\n",
       "</table>\n",
       "</div>"
      ],
      "text/plain": [
       "     text  label\n",
       "6677           0\n",
       "6678           0\n",
       "6679           0\n",
       "6680           0\n",
       "6681           0"
      ]
     },
     "execution_count": 67,
     "metadata": {},
     "output_type": "execute_result"
    }
   ],
   "source": [
    "labeled_data.tail()"
   ]
  },
  {
   "cell_type": "code",
   "execution_count": 68,
   "metadata": {},
   "outputs": [
    {
     "data": {
      "text/html": [
       "<div>\n",
       "<style scoped>\n",
       "    .dataframe tbody tr th:only-of-type {\n",
       "        vertical-align: middle;\n",
       "    }\n",
       "\n",
       "    .dataframe tbody tr th {\n",
       "        vertical-align: top;\n",
       "    }\n",
       "\n",
       "    .dataframe thead th {\n",
       "        text-align: right;\n",
       "    }\n",
       "</style>\n",
       "<table border=\"1\" class=\"dataframe\">\n",
       "  <thead>\n",
       "    <tr style=\"text-align: right;\">\n",
       "      <th></th>\n",
       "      <th>text</th>\n",
       "      <th>label</th>\n",
       "    </tr>\n",
       "  </thead>\n",
       "  <tbody>\n",
       "    <tr>\n",
       "      <th>6667</th>\n",
       "      <td>“In a manner of speaking,” said Uncle Vernon. ...</td>\n",
       "      <td>0</td>\n",
       "    </tr>\n",
       "    <tr>\n",
       "      <th>6669</th>\n",
       "      <td>Harry hung back for a last word with Ron and H...</td>\n",
       "      <td>0</td>\n",
       "    </tr>\n",
       "    <tr>\n",
       "      <th>6671</th>\n",
       "      <td>“See you over the summer, then.”</td>\n",
       "      <td>0</td>\n",
       "    </tr>\n",
       "    <tr>\n",
       "      <th>6673</th>\n",
       "      <td>“Hope you have — er — a good holiday,” said He...</td>\n",
       "      <td>0</td>\n",
       "    </tr>\n",
       "    <tr>\n",
       "      <th>6675</th>\n",
       "      <td>“Oh, I will,” said Harry, and they were surpri...</td>\n",
       "      <td>0</td>\n",
       "    </tr>\n",
       "  </tbody>\n",
       "</table>\n",
       "</div>"
      ],
      "text/plain": [
       "                                                   text  label\n",
       "6667  “In a manner of speaking,” said Uncle Vernon. ...      0\n",
       "6669  Harry hung back for a last word with Ron and H...      0\n",
       "6671                   “See you over the summer, then.”      0\n",
       "6673  “Hope you have — er — a good holiday,” said He...      0\n",
       "6675  “Oh, I will,” said Harry, and they were surpri...      0"
      ]
     },
     "execution_count": 68,
     "metadata": {},
     "output_type": "execute_result"
    }
   ],
   "source": [
    "labeled_data['text'].replace('', np.nan, inplace=True)\n",
    "labeled_data.dropna(inplace=True)\n",
    "labeled_data.tail()"
   ]
  },
  {
   "cell_type": "code",
   "execution_count": 87,
   "metadata": {},
   "outputs": [
    {
     "name": "stdout",
     "output_type": "stream",
     "text": [
      "Chapter 1 at index 31\n",
      "Chapter 2 at index 143\n",
      "Chapter 3 at index 245\n",
      "Chapter 4 at index 380\n",
      "Chapter 5 at index 535\n",
      "Chapter 6 at index 824\n",
      "Chapter 7 at index 1113\n",
      "Chapter 8 at index 1302\n",
      "Chapter 9 at index 1396\n",
      "Chapter 10 at index 1609\n",
      "Chapter 11 at index 1775\n",
      "Chapter 12 at index 1914\n",
      "Chapter 13 at index 2122\n",
      "Chapter 14 at index 2248\n",
      "Chapter 15 at index 2389\n",
      "Chapter 16 at index 2579\n",
      "Chapter 17 at index 2901\n"
     ]
    }
   ],
   "source": [
    "count = 1\n",
    "for idx, i in enumerate(labeled_data['text']):\n",
    "    if i == f'Chapter {count}':\n",
    "#         tag each of the chapters as events in the story arch\n",
    "        print(f'Chapter {count} at index {idx}')\n",
    "        count += 1"
   ]
  },
  {
   "cell_type": "code",
   "execution_count": 88,
   "metadata": {},
   "outputs": [
    {
     "name": "stderr",
     "output_type": "stream",
     "text": [
      "C:\\Users\\Mark\\AppData\\Local\\Continuum\\anaconda3\\lib\\site-packages\\ipykernel_launcher.py:1: SettingWithCopyWarning: \n",
      "A value is trying to be set on a copy of a slice from a DataFrame\n",
      "\n",
      "See the caveats in the documentation: http://pandas.pydata.org/pandas-docs/stable/indexing.html#indexing-view-versus-copy\n",
      "  \"\"\"Entry point for launching an IPython kernel.\n"
     ]
    }
   ],
   "source": [
    "labeled_data['label'][143:245] = 1 # Chapter 2 = Ordinary World\n",
    "labeled_data['label'][245:380] = 2 # Chapter 3 = Call to Adventure (most of the calling comes form an outside source)\n",
    "labeled_data['label'][380:535] = 3 # Chapter 4 = Refusae the Call (Uncle does most of the refusing)(Harry meets Hagrid)\n",
    "labeled_data['label'][535:823] = 4 # Chapter 5 = Meeting Mentor (although harry already met Hagrid, they get more time to talk while shopping)\n",
    "labeled_data['label'][143:245] = 5 # Chapter 6 =  Crossing the Threshold Platform 9 3/4\n",
    "\n",
    "# a fair amount of time is spent meeting allies, enemies, and challenges.  This part of the journey is the most vauge.\n",
    "\n",
    "# He doesn't find the mirror till halfway through the chapter\n",
    "labeled_data['label'][1914:2122] = 6 # Chapter 12 = Approaching the Cave (This is where the hero confronts themselves,  Harry finds the Mirror of Erised and spends hours in the company of his parents he never knew.  As an orphan this topic very close to his heart.)\n",
    "labeled_data['label'][1914:2122] = 7 # Chapter 16 = The Ordeal\n",
    "# labeled_data['label'][1914:2901] = 8 # End of Chapter 16 = Seize the Sword(Stone)\n",
    "labeled_data['label'][2901:] = 9 # Begining of Chapter 17 = Rededication (facing Quirrel/V)\n",
    "# labeled_data['label'][2901:] = 10 # Harry wakes in Hospital = Ressurection\n",
    "# labeled_data['label'][2901:] = 11 # End of year feast to the end of the book =  Return with Elixer"
   ]
  },
  {
   "cell_type": "code",
   "execution_count": 89,
   "metadata": {},
   "outputs": [
    {
     "data": {
      "text/html": [
       "<div>\n",
       "<style scoped>\n",
       "    .dataframe tbody tr th:only-of-type {\n",
       "        vertical-align: middle;\n",
       "    }\n",
       "\n",
       "    .dataframe tbody tr th {\n",
       "        vertical-align: top;\n",
       "    }\n",
       "\n",
       "    .dataframe thead th {\n",
       "        text-align: right;\n",
       "    }\n",
       "</style>\n",
       "<table border=\"1\" class=\"dataframe\">\n",
       "  <thead>\n",
       "    <tr style=\"text-align: right;\">\n",
       "      <th></th>\n",
       "      <th>label</th>\n",
       "    </tr>\n",
       "  </thead>\n",
       "  <tbody>\n",
       "    <tr>\n",
       "      <th>count</th>\n",
       "      <td>3132.000000</td>\n",
       "    </tr>\n",
       "    <tr>\n",
       "      <th>mean</th>\n",
       "      <td>0.032567</td>\n",
       "    </tr>\n",
       "    <tr>\n",
       "      <th>std</th>\n",
       "      <td>0.177529</td>\n",
       "    </tr>\n",
       "    <tr>\n",
       "      <th>min</th>\n",
       "      <td>0.000000</td>\n",
       "    </tr>\n",
       "    <tr>\n",
       "      <th>25%</th>\n",
       "      <td>0.000000</td>\n",
       "    </tr>\n",
       "    <tr>\n",
       "      <th>50%</th>\n",
       "      <td>0.000000</td>\n",
       "    </tr>\n",
       "    <tr>\n",
       "      <th>75%</th>\n",
       "      <td>0.000000</td>\n",
       "    </tr>\n",
       "    <tr>\n",
       "      <th>max</th>\n",
       "      <td>1.000000</td>\n",
       "    </tr>\n",
       "  </tbody>\n",
       "</table>\n",
       "</div>"
      ],
      "text/plain": [
       "             label\n",
       "count  3132.000000\n",
       "mean      0.032567\n",
       "std       0.177529\n",
       "min       0.000000\n",
       "25%       0.000000\n",
       "50%       0.000000\n",
       "75%       0.000000\n",
       "max       1.000000"
      ]
     },
     "execution_count": 89,
     "metadata": {},
     "output_type": "execute_result"
    }
   ],
   "source": []
  },
  {
   "cell_type": "code",
   "execution_count": 46,
   "metadata": {},
   "outputs": [
    {
     "data": {
      "text/plain": [
       "'Chapter 1'"
      ]
     },
     "execution_count": 46,
     "metadata": {},
     "output_type": "execute_result"
    }
   ],
   "source": [
    "manuscript[90]"
   ]
  },
  {
   "cell_type": "code",
   "execution_count": 72,
   "metadata": {},
   "outputs": [
    {
     "ename": "TypeError",
     "evalue": "'int' object is not callable",
     "output_type": "error",
     "traceback": [
      "\u001b[1;31m---------------------------------------------------------------------------\u001b[0m",
      "\u001b[1;31mTypeError\u001b[0m                                 Traceback (most recent call last)",
      "\u001b[1;32m<ipython-input-72-2b74408ccb8a>\u001b[0m in \u001b[0;36m<module>\u001b[1;34m\u001b[0m\n\u001b[0;32m      2\u001b[0m     \u001b[0mprocess\u001b[0m\u001b[1;33m.\u001b[0m\u001b[0mextract\u001b[0m\u001b[1;33m(\u001b[0m\u001b[0mquery\u001b[0m\u001b[1;33m,\u001b[0m \u001b[0mdata\u001b[0m\u001b[1;33m,\u001b[0m \u001b[0mlimit\u001b[0m\u001b[1;33m)\u001b[0m\u001b[1;33m\u001b[0m\u001b[1;33m\u001b[0m\u001b[0m\n\u001b[0;32m      3\u001b[0m \u001b[1;33m\u001b[0m\u001b[0m\n\u001b[1;32m----> 4\u001b[1;33m \u001b[0mget_match\u001b[0m\u001b[1;33m(\u001b[0m\u001b[1;34m'Chapter 1'\u001b[0m\u001b[1;33m,\u001b[0m \u001b[0mlabeled_data\u001b[0m\u001b[1;33m,\u001b[0m \u001b[0mlimit\u001b[0m\u001b[1;33m=\u001b[0m\u001b[1;36m3\u001b[0m\u001b[1;33m)\u001b[0m\u001b[1;33m\u001b[0m\u001b[1;33m\u001b[0m\u001b[0m\n\u001b[0m",
      "\u001b[1;32m<ipython-input-72-2b74408ccb8a>\u001b[0m in \u001b[0;36mget_match\u001b[1;34m(query, data, limit)\u001b[0m\n\u001b[0;32m      1\u001b[0m \u001b[1;32mdef\u001b[0m \u001b[0mget_match\u001b[0m\u001b[1;33m(\u001b[0m\u001b[0mquery\u001b[0m\u001b[1;33m,\u001b[0m \u001b[0mdata\u001b[0m\u001b[1;33m,\u001b[0m \u001b[0mlimit\u001b[0m\u001b[1;33m)\u001b[0m\u001b[1;33m:\u001b[0m\u001b[1;33m\u001b[0m\u001b[1;33m\u001b[0m\u001b[0m\n\u001b[1;32m----> 2\u001b[1;33m     \u001b[0mprocess\u001b[0m\u001b[1;33m.\u001b[0m\u001b[0mextract\u001b[0m\u001b[1;33m(\u001b[0m\u001b[0mquery\u001b[0m\u001b[1;33m,\u001b[0m \u001b[0mdata\u001b[0m\u001b[1;33m,\u001b[0m \u001b[0mlimit\u001b[0m\u001b[1;33m)\u001b[0m\u001b[1;33m\u001b[0m\u001b[1;33m\u001b[0m\u001b[0m\n\u001b[0m\u001b[0;32m      3\u001b[0m \u001b[1;33m\u001b[0m\u001b[0m\n\u001b[0;32m      4\u001b[0m \u001b[0mget_match\u001b[0m\u001b[1;33m(\u001b[0m\u001b[1;34m'Chapter 1'\u001b[0m\u001b[1;33m,\u001b[0m \u001b[0mlabeled_data\u001b[0m\u001b[1;33m,\u001b[0m \u001b[0mlimit\u001b[0m\u001b[1;33m=\u001b[0m\u001b[1;36m3\u001b[0m\u001b[1;33m)\u001b[0m\u001b[1;33m\u001b[0m\u001b[1;33m\u001b[0m\u001b[0m\n",
      "\u001b[1;32m~\\AppData\\Local\\Continuum\\anaconda3\\lib\\site-packages\\fuzzywuzzy\\process.py\u001b[0m in \u001b[0;36mextract\u001b[1;34m(query, choices, processor, scorer, limit)\u001b[0m\n\u001b[0;32m    166\u001b[0m     \"\"\"\n\u001b[0;32m    167\u001b[0m     \u001b[0msl\u001b[0m \u001b[1;33m=\u001b[0m \u001b[0mextractWithoutOrder\u001b[0m\u001b[1;33m(\u001b[0m\u001b[0mquery\u001b[0m\u001b[1;33m,\u001b[0m \u001b[0mchoices\u001b[0m\u001b[1;33m,\u001b[0m \u001b[0mprocessor\u001b[0m\u001b[1;33m,\u001b[0m \u001b[0mscorer\u001b[0m\u001b[1;33m)\u001b[0m\u001b[1;33m\u001b[0m\u001b[1;33m\u001b[0m\u001b[0m\n\u001b[1;32m--> 168\u001b[1;33m     \u001b[1;32mreturn\u001b[0m \u001b[0mheapq\u001b[0m\u001b[1;33m.\u001b[0m\u001b[0mnlargest\u001b[0m\u001b[1;33m(\u001b[0m\u001b[0mlimit\u001b[0m\u001b[1;33m,\u001b[0m \u001b[0msl\u001b[0m\u001b[1;33m,\u001b[0m \u001b[0mkey\u001b[0m\u001b[1;33m=\u001b[0m\u001b[1;32mlambda\u001b[0m \u001b[0mi\u001b[0m\u001b[1;33m:\u001b[0m \u001b[0mi\u001b[0m\u001b[1;33m[\u001b[0m\u001b[1;36m1\u001b[0m\u001b[1;33m]\u001b[0m\u001b[1;33m)\u001b[0m \u001b[1;32mif\u001b[0m \u001b[0mlimit\u001b[0m \u001b[1;32mis\u001b[0m \u001b[1;32mnot\u001b[0m \u001b[1;32mNone\u001b[0m \u001b[1;32melse\u001b[0m\u001b[0;31m \u001b[0m\u001b[0;31m\\\u001b[0m\u001b[1;33m\u001b[0m\u001b[1;33m\u001b[0m\u001b[0m\n\u001b[0m\u001b[0;32m    169\u001b[0m         \u001b[0msorted\u001b[0m\u001b[1;33m(\u001b[0m\u001b[0msl\u001b[0m\u001b[1;33m,\u001b[0m \u001b[0mkey\u001b[0m\u001b[1;33m=\u001b[0m\u001b[1;32mlambda\u001b[0m \u001b[0mi\u001b[0m\u001b[1;33m:\u001b[0m \u001b[0mi\u001b[0m\u001b[1;33m[\u001b[0m\u001b[1;36m1\u001b[0m\u001b[1;33m]\u001b[0m\u001b[1;33m,\u001b[0m \u001b[0mreverse\u001b[0m\u001b[1;33m=\u001b[0m\u001b[1;32mTrue\u001b[0m\u001b[1;33m)\u001b[0m\u001b[1;33m\u001b[0m\u001b[1;33m\u001b[0m\u001b[0m\n\u001b[0;32m    170\u001b[0m \u001b[1;33m\u001b[0m\u001b[0m\n",
      "\u001b[1;32m~\\AppData\\Local\\Continuum\\anaconda3\\lib\\heapq.py\u001b[0m in \u001b[0;36mnlargest\u001b[1;34m(n, iterable, key)\u001b[0m\n\u001b[0;32m    567\u001b[0m     \u001b[1;31m# General case, slowest method\u001b[0m\u001b[1;33m\u001b[0m\u001b[1;33m\u001b[0m\u001b[1;33m\u001b[0m\u001b[0m\n\u001b[0;32m    568\u001b[0m     \u001b[0mit\u001b[0m \u001b[1;33m=\u001b[0m \u001b[0miter\u001b[0m\u001b[1;33m(\u001b[0m\u001b[0miterable\u001b[0m\u001b[1;33m)\u001b[0m\u001b[1;33m\u001b[0m\u001b[1;33m\u001b[0m\u001b[0m\n\u001b[1;32m--> 569\u001b[1;33m     \u001b[0mresult\u001b[0m \u001b[1;33m=\u001b[0m \u001b[1;33m[\u001b[0m\u001b[1;33m(\u001b[0m\u001b[0mkey\u001b[0m\u001b[1;33m(\u001b[0m\u001b[0melem\u001b[0m\u001b[1;33m)\u001b[0m\u001b[1;33m,\u001b[0m \u001b[0mi\u001b[0m\u001b[1;33m,\u001b[0m \u001b[0melem\u001b[0m\u001b[1;33m)\u001b[0m \u001b[1;32mfor\u001b[0m \u001b[0mi\u001b[0m\u001b[1;33m,\u001b[0m \u001b[0melem\u001b[0m \u001b[1;32min\u001b[0m \u001b[0mzip\u001b[0m\u001b[1;33m(\u001b[0m\u001b[0mrange\u001b[0m\u001b[1;33m(\u001b[0m\u001b[1;36m0\u001b[0m\u001b[1;33m,\u001b[0m \u001b[1;33m-\u001b[0m\u001b[0mn\u001b[0m\u001b[1;33m,\u001b[0m \u001b[1;33m-\u001b[0m\u001b[1;36m1\u001b[0m\u001b[1;33m)\u001b[0m\u001b[1;33m,\u001b[0m \u001b[0mit\u001b[0m\u001b[1;33m)\u001b[0m\u001b[1;33m]\u001b[0m\u001b[1;33m\u001b[0m\u001b[1;33m\u001b[0m\u001b[0m\n\u001b[0m\u001b[0;32m    570\u001b[0m     \u001b[1;32mif\u001b[0m \u001b[1;32mnot\u001b[0m \u001b[0mresult\u001b[0m\u001b[1;33m:\u001b[0m\u001b[1;33m\u001b[0m\u001b[1;33m\u001b[0m\u001b[0m\n\u001b[0;32m    571\u001b[0m         \u001b[1;32mreturn\u001b[0m \u001b[0mresult\u001b[0m\u001b[1;33m\u001b[0m\u001b[1;33m\u001b[0m\u001b[0m\n",
      "\u001b[1;32m~\\AppData\\Local\\Continuum\\anaconda3\\lib\\heapq.py\u001b[0m in \u001b[0;36m<listcomp>\u001b[1;34m(.0)\u001b[0m\n\u001b[0;32m    567\u001b[0m     \u001b[1;31m# General case, slowest method\u001b[0m\u001b[1;33m\u001b[0m\u001b[1;33m\u001b[0m\u001b[1;33m\u001b[0m\u001b[0m\n\u001b[0;32m    568\u001b[0m     \u001b[0mit\u001b[0m \u001b[1;33m=\u001b[0m \u001b[0miter\u001b[0m\u001b[1;33m(\u001b[0m\u001b[0miterable\u001b[0m\u001b[1;33m)\u001b[0m\u001b[1;33m\u001b[0m\u001b[1;33m\u001b[0m\u001b[0m\n\u001b[1;32m--> 569\u001b[1;33m     \u001b[0mresult\u001b[0m \u001b[1;33m=\u001b[0m \u001b[1;33m[\u001b[0m\u001b[1;33m(\u001b[0m\u001b[0mkey\u001b[0m\u001b[1;33m(\u001b[0m\u001b[0melem\u001b[0m\u001b[1;33m)\u001b[0m\u001b[1;33m,\u001b[0m \u001b[0mi\u001b[0m\u001b[1;33m,\u001b[0m \u001b[0melem\u001b[0m\u001b[1;33m)\u001b[0m \u001b[1;32mfor\u001b[0m \u001b[0mi\u001b[0m\u001b[1;33m,\u001b[0m \u001b[0melem\u001b[0m \u001b[1;32min\u001b[0m \u001b[0mzip\u001b[0m\u001b[1;33m(\u001b[0m\u001b[0mrange\u001b[0m\u001b[1;33m(\u001b[0m\u001b[1;36m0\u001b[0m\u001b[1;33m,\u001b[0m \u001b[1;33m-\u001b[0m\u001b[0mn\u001b[0m\u001b[1;33m,\u001b[0m \u001b[1;33m-\u001b[0m\u001b[1;36m1\u001b[0m\u001b[1;33m)\u001b[0m\u001b[1;33m,\u001b[0m \u001b[0mit\u001b[0m\u001b[1;33m)\u001b[0m\u001b[1;33m]\u001b[0m\u001b[1;33m\u001b[0m\u001b[1;33m\u001b[0m\u001b[0m\n\u001b[0m\u001b[0;32m    570\u001b[0m     \u001b[1;32mif\u001b[0m \u001b[1;32mnot\u001b[0m \u001b[0mresult\u001b[0m\u001b[1;33m:\u001b[0m\u001b[1;33m\u001b[0m\u001b[1;33m\u001b[0m\u001b[0m\n\u001b[0;32m    571\u001b[0m         \u001b[1;32mreturn\u001b[0m \u001b[0mresult\u001b[0m\u001b[1;33m\u001b[0m\u001b[1;33m\u001b[0m\u001b[0m\n",
      "\u001b[1;32m~\\AppData\\Local\\Continuum\\anaconda3\\lib\\site-packages\\fuzzywuzzy\\process.py\u001b[0m in \u001b[0;36mextractWithoutOrder\u001b[1;34m(query, choices, processor, scorer, score_cutoff)\u001b[0m\n\u001b[0;32m     76\u001b[0m \u001b[1;33m\u001b[0m\u001b[0m\n\u001b[0;32m     77\u001b[0m     \u001b[1;31m# Run the processor on the input query.\u001b[0m\u001b[1;33m\u001b[0m\u001b[1;33m\u001b[0m\u001b[1;33m\u001b[0m\u001b[0m\n\u001b[1;32m---> 78\u001b[1;33m     \u001b[0mprocessed_query\u001b[0m \u001b[1;33m=\u001b[0m \u001b[0mprocessor\u001b[0m\u001b[1;33m(\u001b[0m\u001b[0mquery\u001b[0m\u001b[1;33m)\u001b[0m\u001b[1;33m\u001b[0m\u001b[1;33m\u001b[0m\u001b[0m\n\u001b[0m\u001b[0;32m     79\u001b[0m \u001b[1;33m\u001b[0m\u001b[0m\n\u001b[0;32m     80\u001b[0m     \u001b[1;32mif\u001b[0m \u001b[0mlen\u001b[0m\u001b[1;33m(\u001b[0m\u001b[0mprocessed_query\u001b[0m\u001b[1;33m)\u001b[0m \u001b[1;33m==\u001b[0m \u001b[1;36m0\u001b[0m\u001b[1;33m:\u001b[0m\u001b[1;33m\u001b[0m\u001b[1;33m\u001b[0m\u001b[0m\n",
      "\u001b[1;31mTypeError\u001b[0m: 'int' object is not callable"
     ]
    }
   ],
   "source": [
    "def get_match(query, data, limit):\n",
    "    process.extract(query, data, limit)\n",
    "\n",
    "get_match('Chapter 1', labeled_data, limit=3)"
   ]
  },
  {
   "cell_type": "code",
   "execution_count": 69,
   "metadata": {},
   "outputs": [
    {
     "name": "stdout",
     "output_type": "stream",
     "text": [
      "60% partial match: \"text\" with \"0                                            Harry Potter\n",
      "2                                and the Sorcerer’s Stone\n",
      "8                                                      by\n",
      "10                                          J. K. Rowling\n",
      "12                         Illustrations by Mary Grandpré\n",
      "16                                 Arthur A. Levine Books\n",
      "18                        An Imprint of Scholastic Press.\n",
      "24                         For Jessica, who loves stories\n",
      "26                          for Anne, who loved them too;\n",
      "28                  and for Di, who heard this one first.\n",
      "34                  Text copyright © 1997 by J.K. Rowling\n",
      "36      Illustrations by Mary GrandPré copyright © 199...\n",
      "38      All rights reserved. Published by Scholastic P...\n",
      "40                                  Publishers since 1920\n",
      "42      SCHOLASTIC, SCHOLASTIC PRESS, and the LANTERN ...\n",
      "44      are trademarks and/or registered trademarks of...\n",
      "48      HARRY POTTER and all related characters and el...\n",
      "52      No part of this publication may be reproduced,...\n",
      "56      Library of Congress Cataloging-in-Publication ...\n",
      "60                                          Rowling, J.K.\n",
      "62      Harry Potter and the Sorcerer's Stone / by J.K...\n",
      "64                                                 p. cm.\n",
      "66      Summary: Rescued from the outrageous neglect o...\n",
      "68                                     ISBN 0-590-35340-3\n",
      "70      [1. Fantasy — Fiction. 2. Witches — Fiction. 3...\n",
      "72      4. Schools — Fiction. 5. England — Fiction.] I...\n",
      "74                                     PZ7.R79835Har 1998\n",
      "76                                  [Fic] — dc21 97-39059\n",
      "80                          64 65 66 67 68 69 70 71 72 05\n",
      "82                                   Printed in U.S.A. 10\n",
      "                              ...                        \n",
      "6615    “Which means,” Dumbledore called over the stor...\n",
      "6617    He clapped his hands. In an instant, the green...\n",
      "6619    It was the best evening of Harry’s life, bette...\n",
      "6623    Harry had almost forgotten that the exam resul...\n",
      "6625    And suddenly, their wardrobes were empty, thei...\n",
      "6627    It took quite a while for them all to get off ...\n",
      "6629    “You must come and stay this summer,” said Ron...\n",
      "6631    “Thanks,” said Harry, “I’ll need something to ...\n",
      "6633    People jostled them as they moved forward towa...\n",
      "6635                                        “Bye, Harry!”\n",
      "6637                                   “See you, Potter!”\n",
      "6639           “Still famous,” said Ron, grinning at him.\n",
      "6641    “Not where I’m going, I promise you,” said Harry.\n",
      "6643    He, Ron, and Hermione passed through the gatew...\n",
      "6645               “There he is, Mom, there he is, look!”\n",
      "6647    It was Ginny Weasley, Ron’s younger sister, bu...\n",
      "6649    “Harry Potter!” she squealed. “Look, Mom! I ca...\n",
      "6651           “Be quiet, Ginny, and it’s rude to point.”\n",
      "6653                    Mrs. Weasley smiled down at them.\n",
      "6655                               “Busy year?” she said.\n",
      "6657    “Very,” said Harry. “Thanks for the fudge and ...\n",
      "6659                          “Oh, it was nothing, dear.”\n",
      "6661                                    “Ready, are you?”\n",
      "6663    It was Uncle Vernon, still purple-faced, still...\n",
      "6665     “You must be Harry’s family!” said Mrs. Weasley.\n",
      "6667    “In a manner of speaking,” said Uncle Vernon. ...\n",
      "6669    Harry hung back for a last word with Ron and H...\n",
      "6671                     “See you over the summer, then.”\n",
      "6673    “Hope you have — er — a good holiday,” said He...\n",
      "6675    “Oh, I will,” said Harry, and they were surpri...\n",
      "Name: text, Length: 3132, dtype: object\" \n",
      "['text', 60, 0                                            Harry Potter\n",
      "2                                and the Sorcerer’s Stone\n",
      "8                                                      by\n",
      "10                                          J. K. Rowling\n",
      "12                         Illustrations by Mary Grandpré\n",
      "16                                 Arthur A. Levine Books\n",
      "18                        An Imprint of Scholastic Press.\n",
      "24                         For Jessica, who loves stories\n",
      "26                          for Anne, who loved them too;\n",
      "28                  and for Di, who heard this one first.\n",
      "34                  Text copyright © 1997 by J.K. Rowling\n",
      "36      Illustrations by Mary GrandPré copyright © 199...\n",
      "38      All rights reserved. Published by Scholastic P...\n",
      "40                                  Publishers since 1920\n",
      "42      SCHOLASTIC, SCHOLASTIC PRESS, and the LANTERN ...\n",
      "44      are trademarks and/or registered trademarks of...\n",
      "48      HARRY POTTER and all related characters and el...\n",
      "52      No part of this publication may be reproduced,...\n",
      "56      Library of Congress Cataloging-in-Publication ...\n",
      "60                                          Rowling, J.K.\n",
      "62      Harry Potter and the Sorcerer's Stone / by J.K...\n",
      "64                                                 p. cm.\n",
      "66      Summary: Rescued from the outrageous neglect o...\n",
      "68                                     ISBN 0-590-35340-3\n",
      "70      [1. Fantasy — Fiction. 2. Witches — Fiction. 3...\n",
      "72      4. Schools — Fiction. 5. England — Fiction.] I...\n",
      "74                                     PZ7.R79835Har 1998\n",
      "76                                  [Fic] — dc21 97-39059\n",
      "80                          64 65 66 67 68 69 70 71 72 05\n",
      "82                                   Printed in U.S.A. 10\n",
      "                              ...                        \n",
      "6615    “Which means,” Dumbledore called over the stor...\n",
      "6617    He clapped his hands. In an instant, the green...\n",
      "6619    It was the best evening of Harry’s life, bette...\n",
      "6623    Harry had almost forgotten that the exam resul...\n",
      "6625    And suddenly, their wardrobes were empty, thei...\n",
      "6627    It took quite a while for them all to get off ...\n",
      "6629    “You must come and stay this summer,” said Ron...\n",
      "6631    “Thanks,” said Harry, “I’ll need something to ...\n",
      "6633    People jostled them as they moved forward towa...\n",
      "6635                                        “Bye, Harry!”\n",
      "6637                                   “See you, Potter!”\n",
      "6639           “Still famous,” said Ron, grinning at him.\n",
      "6641    “Not where I’m going, I promise you,” said Harry.\n",
      "6643    He, Ron, and Hermione passed through the gatew...\n",
      "6645               “There he is, Mom, there he is, look!”\n",
      "6647    It was Ginny Weasley, Ron’s younger sister, bu...\n",
      "6649    “Harry Potter!” she squealed. “Look, Mom! I ca...\n",
      "6651           “Be quiet, Ginny, and it’s rude to point.”\n",
      "6653                    Mrs. Weasley smiled down at them.\n",
      "6655                               “Busy year?” she said.\n",
      "6657    “Very,” said Harry. “Thanks for the fudge and ...\n",
      "6659                          “Oh, it was nothing, dear.”\n",
      "6661                                    “Ready, are you?”\n",
      "6663    It was Uncle Vernon, still purple-faced, still...\n",
      "6665     “You must be Harry’s family!” said Mrs. Weasley.\n",
      "6667    “In a manner of speaking,” said Uncle Vernon. ...\n",
      "6669    Harry hung back for a last word with Ron and H...\n",
      "6671                     “See you over the summer, then.”\n",
      "6673    “Hope you have — er — a good holiday,” said He...\n",
      "6675    “Oh, I will,” said Harry, and they were surpri...\n",
      "Name: text, Length: 3132, dtype: object]\n",
      "60% partial match: \"label\" with \"0       0\n",
      "2       0\n",
      "8       0\n",
      "10      0\n",
      "12      0\n",
      "16      0\n",
      "18      0\n",
      "24      0\n",
      "26      0\n",
      "28      0\n",
      "34      0\n",
      "36      0\n",
      "38      0\n",
      "40      0\n",
      "42      0\n",
      "44      0\n",
      "48      0\n",
      "52      0\n",
      "56      0\n",
      "60      0\n",
      "62      0\n",
      "64      0\n",
      "66      0\n",
      "68      0\n",
      "70      0\n",
      "72      0\n",
      "74      0\n",
      "76      0\n",
      "80      0\n",
      "82      0\n",
      "       ..\n",
      "6615    0\n",
      "6617    0\n",
      "6619    0\n",
      "6623    0\n",
      "6625    0\n",
      "6627    0\n",
      "6629    0\n",
      "6631    0\n",
      "6633    0\n",
      "6635    0\n",
      "6637    0\n",
      "6639    0\n",
      "6641    0\n",
      "6643    0\n",
      "6645    0\n",
      "6647    0\n",
      "6649    0\n",
      "6651    0\n",
      "6653    0\n",
      "6655    0\n",
      "6657    0\n",
      "6659    0\n",
      "6661    0\n",
      "6663    0\n",
      "6665    0\n",
      "6667    0\n",
      "6669    0\n",
      "6671    0\n",
      "6673    0\n",
      "6675    0\n",
      "Name: label, Length: 3132, dtype: int32\" \n",
      "['label', 60, 0       0\n",
      "2       0\n",
      "8       0\n",
      "10      0\n",
      "12      0\n",
      "16      0\n",
      "18      0\n",
      "24      0\n",
      "26      0\n",
      "28      0\n",
      "34      0\n",
      "36      0\n",
      "38      0\n",
      "40      0\n",
      "42      0\n",
      "44      0\n",
      "48      0\n",
      "52      0\n",
      "56      0\n",
      "60      0\n",
      "62      0\n",
      "64      0\n",
      "66      0\n",
      "68      0\n",
      "70      0\n",
      "72      0\n",
      "74      0\n",
      "76      0\n",
      "80      0\n",
      "82      0\n",
      "       ..\n",
      "6615    0\n",
      "6617    0\n",
      "6619    0\n",
      "6623    0\n",
      "6625    0\n",
      "6627    0\n",
      "6629    0\n",
      "6631    0\n",
      "6633    0\n",
      "6635    0\n",
      "6637    0\n",
      "6639    0\n",
      "6641    0\n",
      "6643    0\n",
      "6645    0\n",
      "6647    0\n",
      "6649    0\n",
      "6651    0\n",
      "6653    0\n",
      "6655    0\n",
      "6657    0\n",
      "6659    0\n",
      "6661    0\n",
      "6663    0\n",
      "6665    0\n",
      "6667    0\n",
      "6669    0\n",
      "6671    0\n",
      "6673    0\n",
      "6675    0\n",
      "Name: label, Length: 3132, dtype: int32]\n"
     ]
    }
   ],
   "source": [
    "for row in labeled_data:\n",
    "    #print(process.extract(row,data, limit = 100))\n",
    "    for found, score, matchrow in process.extract(row, labeled_data, limit=10):\n",
    "        if score >= 60:\n",
    "            print('%d%% partial match: \"%s\" with \"%s\" ' % (score, row, found))\n",
    "            Digi_Results = [row, score, found]\n",
    "            print(Digi_Results)"
   ]
  },
  {
   "cell_type": "code",
   "execution_count": null,
   "metadata": {},
   "outputs": [],
   "source": []
  }
 ],
 "metadata": {
  "kernelspec": {
   "display_name": "Python 3",
   "language": "python",
   "name": "python3"
  },
  "language_info": {
   "codemirror_mode": {
    "name": "ipython",
    "version": 3
   },
   "file_extension": ".py",
   "mimetype": "text/x-python",
   "name": "python",
   "nbconvert_exporter": "python",
   "pygments_lexer": "ipython3",
   "version": "3.6.7"
  }
 },
 "nbformat": 4,
 "nbformat_minor": 2
}
